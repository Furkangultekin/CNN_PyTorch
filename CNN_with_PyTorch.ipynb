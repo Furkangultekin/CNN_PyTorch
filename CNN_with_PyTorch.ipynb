{
  "nbformat": 4,
  "nbformat_minor": 0,
  "metadata": {
    "colab": {
      "name": "CENG501 - PA2 - T2",
      "provenance": [],
      "collapsed_sections": [],
      "toc_visible": true
    },
    "kernelspec": {
      "name": "python3",
      "display_name": "Python 3"
    },
    "language_info": {
      "name": "python"
    },
    "accelerator": "GPU",
    "widgets": {
      "application/vnd.jupyter.widget-state+json": {
        "d5fd212fc7724710af2eeebf6abd9a82": {
          "model_module": "@jupyter-widgets/controls",
          "model_name": "HBoxModel",
          "state": {
            "_view_name": "HBoxView",
            "_dom_classes": [],
            "_model_name": "HBoxModel",
            "_view_module": "@jupyter-widgets/controls",
            "_model_module_version": "1.5.0",
            "_view_count": null,
            "_view_module_version": "1.5.0",
            "box_style": "",
            "layout": "IPY_MODEL_f44ae131bdc6496693bf4c4c6ca84217",
            "_model_module": "@jupyter-widgets/controls",
            "children": [
              "IPY_MODEL_28dfecf0cde54c7fac04bc6e775eb520",
              "IPY_MODEL_1941d357e6da45ceb693aec41e3bec90"
            ]
          }
        },
        "f44ae131bdc6496693bf4c4c6ca84217": {
          "model_module": "@jupyter-widgets/base",
          "model_name": "LayoutModel",
          "state": {
            "_view_name": "LayoutView",
            "grid_template_rows": null,
            "right": null,
            "justify_content": null,
            "_view_module": "@jupyter-widgets/base",
            "overflow": null,
            "_model_module_version": "1.2.0",
            "_view_count": null,
            "flex_flow": null,
            "width": null,
            "min_width": null,
            "border": null,
            "align_items": null,
            "bottom": null,
            "_model_module": "@jupyter-widgets/base",
            "top": null,
            "grid_column": null,
            "overflow_y": null,
            "overflow_x": null,
            "grid_auto_flow": null,
            "grid_area": null,
            "grid_template_columns": null,
            "flex": null,
            "_model_name": "LayoutModel",
            "justify_items": null,
            "grid_row": null,
            "max_height": null,
            "align_content": null,
            "visibility": null,
            "align_self": null,
            "height": null,
            "min_height": null,
            "padding": null,
            "grid_auto_rows": null,
            "grid_gap": null,
            "max_width": null,
            "order": null,
            "_view_module_version": "1.2.0",
            "grid_template_areas": null,
            "object_position": null,
            "object_fit": null,
            "grid_auto_columns": null,
            "margin": null,
            "display": null,
            "left": null
          }
        },
        "28dfecf0cde54c7fac04bc6e775eb520": {
          "model_module": "@jupyter-widgets/controls",
          "model_name": "FloatProgressModel",
          "state": {
            "_view_name": "ProgressView",
            "style": "IPY_MODEL_a4380caa86c042048ee1ddaac1492dac",
            "_dom_classes": [],
            "description": "",
            "_model_name": "FloatProgressModel",
            "bar_style": "success",
            "max": 170498071,
            "_view_module": "@jupyter-widgets/controls",
            "_model_module_version": "1.5.0",
            "value": 170498071,
            "_view_count": null,
            "_view_module_version": "1.5.0",
            "orientation": "horizontal",
            "min": 0,
            "description_tooltip": null,
            "_model_module": "@jupyter-widgets/controls",
            "layout": "IPY_MODEL_e198f27254e44bb685f79fdcbfbe40b5"
          }
        },
        "1941d357e6da45ceb693aec41e3bec90": {
          "model_module": "@jupyter-widgets/controls",
          "model_name": "HTMLModel",
          "state": {
            "_view_name": "HTMLView",
            "style": "IPY_MODEL_3849ee95aa8b4e09863d253cb17b4add",
            "_dom_classes": [],
            "description": "",
            "_model_name": "HTMLModel",
            "placeholder": "​",
            "_view_module": "@jupyter-widgets/controls",
            "_model_module_version": "1.5.0",
            "value": " 170499072/? [00:08&lt;00:00, 20317895.93it/s]",
            "_view_count": null,
            "_view_module_version": "1.5.0",
            "description_tooltip": null,
            "_model_module": "@jupyter-widgets/controls",
            "layout": "IPY_MODEL_5bb9e60ecffd43e4bc9571544fd0277e"
          }
        },
        "a4380caa86c042048ee1ddaac1492dac": {
          "model_module": "@jupyter-widgets/controls",
          "model_name": "ProgressStyleModel",
          "state": {
            "_view_name": "StyleView",
            "_model_name": "ProgressStyleModel",
            "description_width": "initial",
            "_view_module": "@jupyter-widgets/base",
            "_model_module_version": "1.5.0",
            "_view_count": null,
            "_view_module_version": "1.2.0",
            "bar_color": null,
            "_model_module": "@jupyter-widgets/controls"
          }
        },
        "e198f27254e44bb685f79fdcbfbe40b5": {
          "model_module": "@jupyter-widgets/base",
          "model_name": "LayoutModel",
          "state": {
            "_view_name": "LayoutView",
            "grid_template_rows": null,
            "right": null,
            "justify_content": null,
            "_view_module": "@jupyter-widgets/base",
            "overflow": null,
            "_model_module_version": "1.2.0",
            "_view_count": null,
            "flex_flow": null,
            "width": null,
            "min_width": null,
            "border": null,
            "align_items": null,
            "bottom": null,
            "_model_module": "@jupyter-widgets/base",
            "top": null,
            "grid_column": null,
            "overflow_y": null,
            "overflow_x": null,
            "grid_auto_flow": null,
            "grid_area": null,
            "grid_template_columns": null,
            "flex": null,
            "_model_name": "LayoutModel",
            "justify_items": null,
            "grid_row": null,
            "max_height": null,
            "align_content": null,
            "visibility": null,
            "align_self": null,
            "height": null,
            "min_height": null,
            "padding": null,
            "grid_auto_rows": null,
            "grid_gap": null,
            "max_width": null,
            "order": null,
            "_view_module_version": "1.2.0",
            "grid_template_areas": null,
            "object_position": null,
            "object_fit": null,
            "grid_auto_columns": null,
            "margin": null,
            "display": null,
            "left": null
          }
        },
        "3849ee95aa8b4e09863d253cb17b4add": {
          "model_module": "@jupyter-widgets/controls",
          "model_name": "DescriptionStyleModel",
          "state": {
            "_view_name": "StyleView",
            "_model_name": "DescriptionStyleModel",
            "description_width": "",
            "_view_module": "@jupyter-widgets/base",
            "_model_module_version": "1.5.0",
            "_view_count": null,
            "_view_module_version": "1.2.0",
            "_model_module": "@jupyter-widgets/controls"
          }
        },
        "5bb9e60ecffd43e4bc9571544fd0277e": {
          "model_module": "@jupyter-widgets/base",
          "model_name": "LayoutModel",
          "state": {
            "_view_name": "LayoutView",
            "grid_template_rows": null,
            "right": null,
            "justify_content": null,
            "_view_module": "@jupyter-widgets/base",
            "overflow": null,
            "_model_module_version": "1.2.0",
            "_view_count": null,
            "flex_flow": null,
            "width": null,
            "min_width": null,
            "border": null,
            "align_items": null,
            "bottom": null,
            "_model_module": "@jupyter-widgets/base",
            "top": null,
            "grid_column": null,
            "overflow_y": null,
            "overflow_x": null,
            "grid_auto_flow": null,
            "grid_area": null,
            "grid_template_columns": null,
            "flex": null,
            "_model_name": "LayoutModel",
            "justify_items": null,
            "grid_row": null,
            "max_height": null,
            "align_content": null,
            "visibility": null,
            "align_self": null,
            "height": null,
            "min_height": null,
            "padding": null,
            "grid_auto_rows": null,
            "grid_gap": null,
            "max_width": null,
            "order": null,
            "_view_module_version": "1.2.0",
            "grid_template_areas": null,
            "object_position": null,
            "object_fit": null,
            "grid_auto_columns": null,
            "margin": null,
            "display": null,
            "left": null
          }
        }
      }
    }
  },
  "cells": [
    {
      "cell_type": "markdown",
      "metadata": {
        "id": "1X4X2hmaEmip"
      },
      "source": [
        "# Task 2: CNN with PyTorch\n",
        "# CENG501 - Spring 2021 - PA2\n",
        "\n",
        "In this task, you will implement a convolutional neural network (CNN) with PyTorch. \n"
      ]
    },
    {
      "cell_type": "markdown",
      "metadata": {
        "id": "oRaKrjO5JSu-"
      },
      "source": [
        "## 1 Import the Modules\n",
        "\n",
        "Let us start with importing some libraries that we will use throughout the task."
      ]
    },
    {
      "cell_type": "code",
      "metadata": {
        "id": "v4L5nogMKyNx",
        "colab": {
          "base_uri": "https://localhost:8080/"
        },
        "outputId": "17c91981-3fcc-4dc7-bdb3-5db5a98dcbd5"
      },
      "source": [
        "import matplotlib.pyplot as plt # For plotting\n",
        "import numpy as np              # NumPy, for working with arrays/tensors \n",
        "import time                     # For measuring time\n",
        "import random                   # Python's random library\n",
        "\n",
        "# PyTorch libraries:\n",
        "import torch\n",
        "import torchvision\n",
        "import torchvision.transforms as transforms\n",
        "\n",
        "# install and import the torchinfo library\n",
        "!pip install torchinfo\n",
        "from torchinfo import summary\n",
        "\n",
        "\n",
        "%matplotlib inline\n",
        "plt.rcParams['figure.figsize'] = [12, 8]\n",
        "plt.rcParams['figure.dpi'] = 100 # 200 e.g. is really fine, but slower"
      ],
      "execution_count": 1,
      "outputs": [
        {
          "output_type": "stream",
          "text": [
            "Collecting torchinfo\n",
            "  Downloading https://files.pythonhosted.org/packages/e7/d3/11f9901d75f4d105b2b1700c81f83579fd33c4cf0ec88bb7a165d96c7bb4/torchinfo-0.1.5-py3-none-any.whl\n",
            "Installing collected packages: torchinfo\n",
            "Successfully installed torchinfo-0.1.5\n"
          ],
          "name": "stdout"
        }
      ]
    },
    {
      "cell_type": "markdown",
      "metadata": {
        "id": "4BXVQOGRI4Sc"
      },
      "source": [
        "### 1.1 Enable GPU\n",
        "\n",
        "From \"Edit -> Notebook Settings -> Hardware accelerator\" select GPU. With the following we will specify to PyTorch that we want to use the GPU."
      ]
    },
    {
      "cell_type": "code",
      "metadata": {
        "id": "97DJEyArJLcR",
        "colab": {
          "base_uri": "https://localhost:8080/"
        },
        "outputId": "d647ecd5-90b1-4688-bd1b-ab31faf01466"
      },
      "source": [
        "if torch.cuda.is_available():\n",
        "  print(\"Cuda (GPU support) is available and enabled!\")\n",
        "  device = torch.device(\"cuda\")\n",
        "else:\n",
        "  print(\"Cuda (GPU support) is not available :(\")\n",
        "  device = torch.device(\"cpu\")"
      ],
      "execution_count": 2,
      "outputs": [
        {
          "output_type": "stream",
          "text": [
            "Cuda (GPU support) is available and enabled!\n"
          ],
          "name": "stdout"
        }
      ]
    },
    {
      "cell_type": "markdown",
      "metadata": {
        "id": "UMmi17e-JX7o"
      },
      "source": [
        "## 2 The Dataset\n",
        "\n",
        "We will use torchvision.datasets to download the CIFAR10 dataset. "
      ]
    },
    {
      "cell_type": "code",
      "metadata": {
        "id": "MlXFbhR8Aq0m",
        "colab": {
          "base_uri": "https://localhost:8080/",
          "height": 119,
          "referenced_widgets": [
            "d5fd212fc7724710af2eeebf6abd9a82",
            "f44ae131bdc6496693bf4c4c6ca84217",
            "28dfecf0cde54c7fac04bc6e775eb520",
            "1941d357e6da45ceb693aec41e3bec90",
            "a4380caa86c042048ee1ddaac1492dac",
            "e198f27254e44bb685f79fdcbfbe40b5",
            "3849ee95aa8b4e09863d253cb17b4add",
            "5bb9e60ecffd43e4bc9571544fd0277e"
          ]
        },
        "outputId": "a5207141-7114-4ad6-bc6b-fe28a0312833"
      },
      "source": [
        "transform = transforms.Compose(\n",
        "    [transforms.ToTensor(),\n",
        "     transforms.Normalize((0.5, 0.5, 0.5), (0.5, 0.5, 0.5))])\n",
        "\n",
        "batch_size = 128\n",
        "\n",
        "trainset = torchvision.datasets.CIFAR10(root='./data', train=True,\n",
        "                                        download=True, transform=transform)\n",
        "trainloader = torch.utils.data.DataLoader(trainset, batch_size=batch_size,\n",
        "                                          shuffle=True, num_workers=2)\n",
        "\n",
        "testset = torchvision.datasets.CIFAR10(root='./data', train=False,\n",
        "                                       download=True, transform=transform)\n",
        "testloader = torch.utils.data.DataLoader(testset, batch_size=batch_size,\n",
        "                                         shuffle=False, num_workers=2)\n",
        "\n",
        "classes = ('plane', 'car', 'bird', 'cat',\n",
        "           'deer', 'dog', 'frog', 'horse', 'ship', 'truck')"
      ],
      "execution_count": 3,
      "outputs": [
        {
          "output_type": "stream",
          "text": [
            "Downloading https://www.cs.toronto.edu/~kriz/cifar-10-python.tar.gz to ./data/cifar-10-python.tar.gz\n"
          ],
          "name": "stdout"
        },
        {
          "output_type": "display_data",
          "data": {
            "application/vnd.jupyter.widget-view+json": {
              "model_id": "d5fd212fc7724710af2eeebf6abd9a82",
              "version_minor": 0,
              "version_major": 2
            },
            "text/plain": [
              "HBox(children=(FloatProgress(value=0.0, max=170498071.0), HTML(value='')))"
            ]
          },
          "metadata": {
            "tags": []
          }
        },
        {
          "output_type": "stream",
          "text": [
            "\n",
            "Extracting ./data/cifar-10-python.tar.gz to ./data\n",
            "Files already downloaded and verified\n"
          ],
          "name": "stdout"
        }
      ]
    },
    {
      "cell_type": "markdown",
      "metadata": {
        "id": "0i9tug4jGGg4"
      },
      "source": [
        "### 2.1 Visualize Samples"
      ]
    },
    {
      "cell_type": "code",
      "metadata": {
        "id": "aiLTjQoKBIpQ",
        "colab": {
          "base_uri": "https://localhost:8080/",
          "height": 264
        },
        "outputId": "fa095f34-1d20-4c85-f79c-acc11c9ce2a3"
      },
      "source": [
        "dataiter = iter(trainloader)\n",
        "classes = ['plane', 'car', 'bird', 'cat', 'deer', 'dog', 'frog', 'horse', 'ship', 'truck']\n",
        "S = 4\n",
        "\n",
        "for i in range(S):\n",
        "  for j in range(S):\n",
        "    images, labels = dataiter.next()\n",
        "    X = np.transpose(images[0].numpy()/2+0.5, (1, 2, 0))\n",
        "    y = labels[0]\n",
        "\n",
        "    plt.subplot(S, S, i*S+j+1)\n",
        "    plt.imshow(X)\n",
        "    plt.axis('off')\n",
        "    plt.title(classes[y])\n",
        "    plt.subplots_adjust(hspace = 0.5)\n",
        "\n",
        "plt.show()"
      ],
      "execution_count": 4,
      "outputs": [
        {
          "output_type": "display_data",
          "data": {
            "image/png": "[encoded data removed]",
            "text/plain": [
              "<Figure size 432x288 with 16 Axes>"
            ]
          },
          "metadata": {
            "tags": [],
            "needs_background": "light"
          }
        }
      ]
    },
    {
      "cell_type": "markdown",
      "metadata": {
        "id": "kUmdAA1QJvRx"
      },
      "source": [
        "## 4 Define and Train a Small CNN Model\n",
        "\n",
        "Now, all the pieces are ready and we can define a model."
      ]
    },
    {
      "cell_type": "markdown",
      "metadata": {
        "id": "fJq7aT_wh9SK"
      },
      "source": [
        "### 4.1 Model Definition\n",
        "\n",
        "Create a three-layer CNN with the following layers:\n",
        "\n",
        "| Layer Name | Input HxW | Filter size | Stride | Pad | # of in channels | Out HxW | # of out channels | \n",
        "| ----| -----| ----| ---| ---| ----| -----|---------- |\n",
        "| Conv1   | 32x32 | ? | ? | ? | 3  | 28x28 | 16 |\n",
        "| Conv2   | 28x28 | ? | ? | ? | 16 | 26x26 | 32 |\n",
        "| Maxpool | 26x26 | 4 | 2 | 0 | 32 | 12x12 | 32 |\n",
        "| Conv3   | 12x12 | ? | ? | ? | 32 | 10x10 | 32 |\n",
        "\n",
        "and the fully-connected layers:\n",
        "\n",
        "| Layer Name | Input Size | Output size | \n",
        "| ----| -----| ----| \n",
        "| FC1 | 3200 | 1500 |\n",
        "| FC2 | 1500 | 10 | \n",
        "\n",
        "While creating your model, pay attention to the following aspects:\n",
        "* Each Conv layer and FC layer will be followed by ReLU, except for the last FC layer.\n",
        "* You should keep all other parameters (dilation, bias, group-mode, ..) as their default values in Pytorch.\n",
        "\n",
        "You will need to read the following pages from Pytorch regarding the layers that you will use:\n",
        "* [Conv2d](https://pytorch.org/docs/stable/generated/torch.nn.Conv2d.html)\n",
        "* [MaxPool2d](https://pytorch.org/docs/stable/generated/torch.nn.MaxPool2d.html?highlight=maxpool#torch.nn.MaxPool2d)"
      ]
    },
    {
      "cell_type": "code",
      "metadata": {
        "id": "n13wrSZTiDEp"
      },
      "source": [
        "import torch.nn as nn\n",
        "import torch.nn.functional as F\n",
        "\n",
        "class SmallCNN(nn.Module):\n",
        "    def __init__(self):\n",
        "        super(SmallCNN, self).__init__()\n",
        "        torch.manual_seed(501)\n",
        "        random.seed(501)\n",
        "        np.random.seed(501)       \n",
        "        self.conv1 = None\n",
        "        self.conv2 = None\n",
        "        self.conv3 = None\n",
        "        self.maxpool = None\n",
        "        self.fc1 = None\n",
        "        self.fc2 = None\n",
        "        ###########################################################\n",
        "        # @TODO: Create the convolutional and FC layers as        #\n",
        "        #  described above.                                       #\n",
        "        ###########################################################\n",
        "        self.conv1 = nn.Conv2d(3, 16, 5, stride=1)\n",
        "        self.conv2 = nn.Conv2d(16, 32, 3, stride=1)\n",
        "        self.conv3 = nn.Conv2d(32, 32, 3, stride=1)\n",
        "        self.maxpool = nn.MaxPool2d(4, stride=2)\n",
        "        self.fc1 = nn.Linear(3200, 1500)\n",
        "        self.fc2 = nn.Linear(1500, 10)\n",
        "        ###########################################################\n",
        "        #                         END OF YOUR CODE                #\n",
        "        ###########################################################\n",
        "\n",
        "    def forward(self, x):\n",
        "      ###########################################################\n",
        "      # @TODO: Feedforward x through the layers. Note that x    #\n",
        "      # needs to be reshaped to (batchsize, 3200) before        #\n",
        "      # the FC layers.                                          #\n",
        "      ###########################################################\n",
        "      x = self.conv1(x)\n",
        "      x = F.relu(x)\n",
        "\n",
        "      x = self.conv2(x)\n",
        "      x = F.relu(x)\n",
        "\n",
        "      x = self.maxpool(x)\n",
        "\n",
        "      x = self.conv3(x)\n",
        "      x = F.relu(x)\n",
        "\n",
        "      x = torch.flatten(x, 1)\n",
        "\n",
        "      x = self.fc1(x)\n",
        "      x = F.relu(x)\n",
        "      x = self.fc2(x)\n",
        "\n",
        "      ###########################################################\n",
        "      #                         END OF YOUR CODE                #\n",
        "      ###########################################################\n",
        "      return x"
      ],
      "execution_count": 5,
      "outputs": []
    },
    {
      "cell_type": "markdown",
      "metadata": {
        "id": "CvpiVF5uiBE9"
      },
      "source": [
        "### 4.2 Trainer for the Model\n",
        "\n",
        "Let us define our training function, which will use the cuda device for training the model."
      ]
    },
    {
      "cell_type": "code",
      "metadata": {
        "id": "5Flgr2C6Xb2s"
      },
      "source": [
        "def train(model, criterion, optimizer, epochs, dataloader, verbose=True):\n",
        "  \"\"\"\n",
        "    Define the trainer function. We can use this for training any model.\n",
        "    The parameter names are self-explanatory.\n",
        "\n",
        "    Returns: the loss history.\n",
        "  \"\"\"\n",
        "  loss_history = [] \n",
        "  for epoch in range(epochs):\n",
        "    for i, data in enumerate(dataloader, 0):    \n",
        "      \n",
        "      # Our batch:\n",
        "      inputs, labels = data\n",
        "      inputs = inputs.to(device)\n",
        "      labels = labels.to(device)\n",
        "\n",
        "      # zero the gradients as PyTorch accumulates them\n",
        "      optimizer.zero_grad()\n",
        "\n",
        "      # Obtain the scores\n",
        "      outputs = model(inputs)\n",
        "\n",
        "      # Calculate loss\n",
        "      loss = criterion(outputs.to(device), labels)\n",
        "\n",
        "      # Backpropagate\n",
        "      loss.backward()\n",
        "\n",
        "      # Update the weights\n",
        "      optimizer.step()\n",
        "\n",
        "      loss_history.append(loss.item())\n",
        "    \n",
        "    if verbose: print(f'Epoch {epoch} / {epochs}: avg. loss of last 5 iterations {np.sum(loss_history[:-6:-1])/5}')\n",
        "\n",
        "  return loss_history"
      ],
      "execution_count": 6,
      "outputs": []
    },
    {
      "cell_type": "markdown",
      "metadata": {
        "id": "L_QLjjxUIkKs"
      },
      "source": [
        "### 4.3 Create and visualize the model"
      ]
    },
    {
      "cell_type": "code",
      "metadata": {
        "id": "jIHLBpztIeWa",
        "colab": {
          "base_uri": "https://localhost:8080/"
        },
        "outputId": "a2edbbdf-1895-4a0c-bdb2-519bb691363b"
      },
      "source": [
        "model = SmallCNN()\n",
        "\n",
        "summary(model, input_size=(batch_size, 3, 32, 32))"
      ],
      "execution_count": 7,
      "outputs": [
        {
          "output_type": "stream",
          "text": [
            "/usr/local/lib/python3.7/dist-packages/torch/nn/functional.py:718: UserWarning: Named tensors and all their associated APIs are an experimental feature and subject to change. Please do not use them for anything important until they are released as stable. (Triggered internally at  /pytorch/c10/core/TensorImpl.h:1156.)\n",
            "  return torch.max_pool2d(input, kernel_size, stride, padding, dilation, ceil_mode)\n"
          ],
          "name": "stderr"
        },
        {
          "output_type": "execute_result",
          "data": {
            "text/plain": [
              "==========================================================================================\n",
              "Layer (type:depth-idx)                   Output Shape              Param #\n",
              "==========================================================================================\n",
              "SmallCNN                                 --                        --\n",
              "├─Conv2d: 1-1                            [128, 16, 28, 28]         1,216\n",
              "├─Conv2d: 1-2                            [128, 32, 26, 26]         4,640\n",
              "├─MaxPool2d: 1-3                         [128, 32, 12, 12]         --\n",
              "├─Conv2d: 1-4                            [128, 32, 10, 10]         9,248\n",
              "├─Linear: 1-5                            [128, 1500]               4,801,500\n",
              "├─Linear: 1-6                            [128, 10]                 15,010\n",
              "==========================================================================================\n",
              "Total params: 4,831,614\n",
              "Trainable params: 4,831,614\n",
              "Non-trainable params: 0\n",
              "Total mult-adds (G): 1.26\n",
              "==========================================================================================\n",
              "Input size (MB): 1.57\n",
              "Forward/backward pass size (MB): 39.82\n",
              "Params size (MB): 19.33\n",
              "Estimated Total Size (MB): 60.72\n",
              "=========================================================================================="
            ]
          },
          "metadata": {
            "tags": []
          },
          "execution_count": 7
        }
      ]
    },
    {
      "cell_type": "markdown",
      "metadata": {
        "id": "0r8pT7Y9FmDH"
      },
      "source": [
        "### 4.4 Train the Small Model\n",
        "\n",
        "We will create an instance of our model and \"define\" which loss function we want to use. We will also state our choice for the optimizer here.\n",
        "\n",
        "For more information, check the PyTorch docs: [CrossEntropyLoss](https://pytorch.org/docs/stable/generated/torch.nn.CrossEntropyLoss.html) and [SGD](https://pytorch.org/docs/stable/optim.html#torch.optim.SGD)."
      ]
    },
    {
      "cell_type": "code",
      "metadata": {
        "id": "8Gg_Xp3vrg42",
        "colab": {
          "base_uri": "https://localhost:8080/"
        },
        "outputId": "023aff75-5297-44bb-9a8d-91dbde89a692"
      },
      "source": [
        "\n",
        "import torch.optim as optim\n",
        "\n",
        "criterion = nn.CrossEntropyLoss()\n",
        "optimizer = optim.SGD(model.parameters(), lr=0.001, momentum=0.9)\n",
        "\n",
        "model = model.to(device)\n",
        "epochs = 10\n",
        "loss_history = train(model, criterion, optimizer, epochs, trainloader)"
      ],
      "execution_count": 8,
      "outputs": [
        {
          "output_type": "stream",
          "text": [
            "Epoch 0 / 10: avg. loss of last 5 iterations 2.252833938598633\n",
            "Epoch 1 / 10: avg. loss of last 5 iterations 1.9602846384048462\n",
            "Epoch 2 / 10: avg. loss of last 5 iterations 1.7500487089157104\n",
            "Epoch 3 / 10: avg. loss of last 5 iterations 1.6033190488815308\n",
            "Epoch 4 / 10: avg. loss of last 5 iterations 1.5140965700149536\n",
            "Epoch 5 / 10: avg. loss of last 5 iterations 1.4129035711288451\n",
            "Epoch 6 / 10: avg. loss of last 5 iterations 1.3084203481674195\n",
            "Epoch 7 / 10: avg. loss of last 5 iterations 1.2826390743255616\n",
            "Epoch 8 / 10: avg. loss of last 5 iterations 1.2921135187149049\n",
            "Epoch 9 / 10: avg. loss of last 5 iterations 1.266666007041931\n"
          ],
          "name": "stdout"
        }
      ]
    },
    {
      "cell_type": "markdown",
      "metadata": {
        "id": "DILBn6y92Ceg"
      },
      "source": [
        "### 4.5 The Loss Curve\n",
        "\n",
        "Let us visualize the loss curve."
      ]
    },
    {
      "cell_type": "code",
      "metadata": {
        "id": "bNZBSrzXiVVe",
        "colab": {
          "base_uri": "https://localhost:8080/",
          "height": 279
        },
        "outputId": "3ef2cefc-43ca-4719-f650-3f91239f96f2"
      },
      "source": [
        "plt.plot(loss_history)\n",
        "plt.xlabel('Iteration number')\n",
        "plt.ylabel('Loss value')\n",
        "plt.show()"
      ],
      "execution_count": 9,
      "outputs": [
        {
          "output_type": "display_data",
          "data": {
            "image/png": "[encoded data removed]",
            "text/plain": [
              "<Figure size 432x288 with 1 Axes>"
            ]
          },
          "metadata": {
            "tags": [],
            "needs_background": "light"
          }
        }
      ]
    },
    {
      "cell_type": "markdown",
      "metadata": {
        "id": "KPMf0jfF2zo6"
      },
      "source": [
        "### 4.6 Quantitative Analysis\n",
        "\n",
        "We can analyze the accuracy of the predictions as follows. You should see around 54\\% accuracies. We can finetune the hyperparameters to obtain better results. But we will skip that and go for a bigger model.\n",
        "\n",
        "*Disclaimer: This code piece is taken from PyTorch examples.*"
      ]
    },
    {
      "cell_type": "code",
      "metadata": {
        "id": "5PAV1QQw218J",
        "colab": {
          "base_uri": "https://localhost:8080/"
        },
        "outputId": "536c4c58-2e44-4341-f4d9-477d1333525e"
      },
      "source": [
        "correct = 0\n",
        "total = 0\n",
        "model = model.to(\"cpu\")\n",
        "with torch.no_grad():\n",
        "    for data in testloader:\n",
        "        images, labels = data\n",
        "        outputs = model(images)\n",
        "        _, predicted = torch.max(outputs.data, 1)\n",
        "        total += labels.size(0)\n",
        "        correct += (predicted == labels).sum().item()\n",
        "\n",
        "print('Accuracy of the network on the 10000 test images: %d %%' % (\n",
        "    100 * correct / total))"
      ],
      "execution_count": 10,
      "outputs": [
        {
          "output_type": "stream",
          "text": [
            "Accuracy of the network on the 10000 test images: 54 %\n"
          ],
          "name": "stdout"
        }
      ]
    },
    {
      "cell_type": "markdown",
      "metadata": {
        "id": "M4AJXtea2427"
      },
      "source": [
        "## 5 Your CNN\n",
        "\n",
        "Now, create your own CNN. It should have at least 5 convolutional layers. Otherwise, there is no restriction on what you can use in your CNN or how you can structure it. \n"
      ]
    },
    {
      "cell_type": "markdown",
      "metadata": {
        "id": "Dr7NvUrWW9ax"
      },
      "source": [
        "### 5.1 Model Definition"
      ]
    },
    {
      "cell_type": "code",
      "metadata": {
        "id": "qmBmxHGoVE_F"
      },
      "source": [
        "import torch.nn as nn\n",
        "import torch.nn.functional as F\n",
        "\n",
        "class YourCNN(nn.Module):\n",
        "    def __init__(self):\n",
        "        super(YourCNN, self).__init__()\n",
        "        torch.manual_seed(501)\n",
        "        random.seed(501)\n",
        "        np.random.seed(501)       \n",
        "        ###########################################################\n",
        "        # @TODO: Create your layers here.                         #\n",
        "        ###########################################################\n",
        "        self.conv1 = None\n",
        "        self.conv2 = None\n",
        "        self.conv3 = None\n",
        "        self.conv4 = None\n",
        "        self.conv5 = None\n",
        "        self.maxpool1 = None\n",
        "        self.maxpool2 = None\n",
        "        self.fc1 = None\n",
        "        self.fc2 = None\n",
        "        self.conv1 = nn.Conv2d(3, 16, 5, stride=1,padding=1)\n",
        "        self.conv2 = nn.Conv2d(16, 32, 3, stride=1,padding=1)\n",
        "        self.conv3 = nn.Conv2d(32, 64, 5, stride=1,padding=1)\n",
        "        self.conv4 = nn.Conv2d(64, 64, 3, stride=1,padding=1)\n",
        "        self.conv5 = nn.Conv2d(64,64,3,stride=1,padding=1)\n",
        "        self.maxpool1 = nn.MaxPool2d(4, stride=2)\n",
        "        self.maxpool2 = nn.MaxPool2d(2, stride=2)\n",
        "\n",
        "        self.fc1 = nn.Linear(2304, 1000)\n",
        "        self.fc2 = nn.Linear(1000, 10)\n",
        "        ###########################################################\n",
        "        #                         END OF YOUR CODE                #\n",
        "        ###########################################################\n",
        "\n",
        "    def forward(self, x):\n",
        "      ###########################################################\n",
        "      # @TODO: Feedforward x through the layers.                #\n",
        "      ###########################################################\n",
        "      x = self.conv1(x)\n",
        "      x = F.relu(x)\n",
        "\n",
        "      x = self.conv2(x)\n",
        "      x = F.relu(x)\n",
        "\n",
        "      x = self.maxpool1(x)\n",
        "\n",
        "      x = self.conv3(x)\n",
        "      x = F.relu(x)\n",
        "\n",
        "      x = self.conv4(x)\n",
        "      x = F.relu(x)\n",
        "\n",
        "      x = self.maxpool2(x)\n",
        "\n",
        "      x = self.conv5(x)\n",
        "      x = F.relu(x)\n",
        "\n",
        "      x = torch.flatten(x, 1)\n",
        "\n",
        "      x = self.fc1(x)\n",
        "      x = F.relu(x)\n",
        "      x = self.fc2(x)\n",
        "      ###########################################################\n",
        "      #                         END OF YOUR CODE                #\n",
        "      ###########################################################\n",
        "      return x"
      ],
      "execution_count": 16,
      "outputs": []
    },
    {
      "cell_type": "markdown",
      "metadata": {
        "id": "OjayBqpCXBJG"
      },
      "source": [
        "### 5.2 Create and visuale your model"
      ]
    },
    {
      "cell_type": "code",
      "metadata": {
        "id": "MfE6ztl-Vsxr",
        "colab": {
          "base_uri": "https://localhost:8080/"
        },
        "outputId": "a177fbc5-f6a9-4af8-d448-3fb5a6630afd"
      },
      "source": [
        "model = YourCNN()\n",
        "\n",
        "summary(model, input_size=(batch_size, 3, 32, 32))"
      ],
      "execution_count": 17,
      "outputs": [
        {
          "output_type": "execute_result",
          "data": {
            "text/plain": [
              "==========================================================================================\n",
              "Layer (type:depth-idx)                   Output Shape              Param #\n",
              "==========================================================================================\n",
              "YourCNN                                  --                        --\n",
              "├─Conv2d: 1-1                            [128, 16, 30, 30]         1,216\n",
              "├─Conv2d: 1-2                            [128, 32, 30, 30]         4,640\n",
              "├─MaxPool2d: 1-3                         [128, 32, 14, 14]         --\n",
              "├─Conv2d: 1-4                            [128, 64, 12, 12]         51,264\n",
              "├─Conv2d: 1-5                            [128, 64, 12, 12]         36,928\n",
              "├─MaxPool2d: 1-6                         [128, 64, 6, 6]           --\n",
              "├─Conv2d: 1-7                            [128, 64, 6, 6]           36,928\n",
              "├─Linear: 1-8                            [128, 1000]               2,305,000\n",
              "├─Linear: 1-9                            [128, 10]                 10,010\n",
              "==========================================================================================\n",
              "Total params: 2,445,986\n",
              "Trainable params: 2,445,986\n",
              "Non-trainable params: 0\n",
              "Total mult-adds (G): 2.77\n",
              "==========================================================================================\n",
              "Input size (MB): 1.57\n",
              "Forward/backward pass size (MB): 66.50\n",
              "Params size (MB): 9.78\n",
              "Estimated Total Size (MB): 77.86\n",
              "=========================================================================================="
            ]
          },
          "metadata": {
            "tags": []
          },
          "execution_count": 17
        }
      ]
    },
    {
      "cell_type": "markdown",
      "metadata": {
        "id": "AQw2uB8kXFu-"
      },
      "source": [
        "### 5.3 Train the Model"
      ]
    },
    {
      "cell_type": "code",
      "metadata": {
        "id": "M_fNyLKWV5kg",
        "colab": {
          "base_uri": "https://localhost:8080/"
        },
        "outputId": "a9c7c9bf-06a7-4c35-c5f3-fe5ab576d86d"
      },
      "source": [
        "import torch.optim as optim\n",
        "\n",
        "criterion = nn.CrossEntropyLoss()\n",
        "optimizer = optim.SGD(model.parameters(), lr=0.005, momentum=0.9)\n",
        "\n",
        "model = model.to(device)\n",
        "epochs = 10\n",
        "loss_history = train(model, criterion, optimizer, epochs, trainloader)"
      ],
      "execution_count": 18,
      "outputs": [
        {
          "output_type": "stream",
          "text": [
            "Epoch 0 / 10: avg. loss of last 5 iterations 2.2869199752807616\n",
            "Epoch 1 / 10: avg. loss of last 5 iterations 1.7163692474365235\n",
            "Epoch 2 / 10: avg. loss of last 5 iterations 1.4511781215667725\n",
            "Epoch 3 / 10: avg. loss of last 5 iterations 1.3410908699035644\n",
            "Epoch 4 / 10: avg. loss of last 5 iterations 1.2692309141159057\n",
            "Epoch 5 / 10: avg. loss of last 5 iterations 1.15853853225708\n",
            "Epoch 6 / 10: avg. loss of last 5 iterations 0.9698664426803589\n",
            "Epoch 7 / 10: avg. loss of last 5 iterations 0.9127666473388671\n",
            "Epoch 8 / 10: avg. loss of last 5 iterations 0.7742519855499268\n",
            "Epoch 9 / 10: avg. loss of last 5 iterations 0.7163342356681823\n"
          ],
          "name": "stdout"
        }
      ]
    },
    {
      "cell_type": "markdown",
      "metadata": {
        "id": "2KD1t5l6WpzE"
      },
      "source": [
        "### 5.4 Loss Curve\n",
        "\n",
        "Let us visualize the loss curve."
      ]
    },
    {
      "cell_type": "code",
      "metadata": {
        "id": "XOALtgdcWsHj",
        "colab": {
          "base_uri": "https://localhost:8080/",
          "height": 279
        },
        "outputId": "2e645bef-13ab-4506-b530-20de12add957"
      },
      "source": [
        "plt.plot(loss_history)\n",
        "plt.xlabel('Iteration number')\n",
        "plt.ylabel('Loss value')\n",
        "plt.show()"
      ],
      "execution_count": 19,
      "outputs": [
        {
          "output_type": "display_data",
          "data": {
            "image/png": "[encoded data removed]",
            "text/plain": [
              "<Figure size 432x288 with 1 Axes>"
            ]
          },
          "metadata": {
            "tags": [],
            "needs_background": "light"
          }
        }
      ]
    },
    {
      "cell_type": "markdown",
      "metadata": {
        "id": "XRPl6GSAW1mz"
      },
      "source": [
        "### 5.5 Quantitative Analysis\n",
        "\n",
        "Analyze your model quantitatively.\n",
        "\n",
        "*Disclaimer: This code piece is taken from PyTorch examples.*"
      ]
    },
    {
      "cell_type": "code",
      "metadata": {
        "id": "QM1Fin7mW2B0",
        "colab": {
          "base_uri": "https://localhost:8080/"
        },
        "outputId": "160bb1b8-b4bc-4ce1-b994-09abfa0d3ea9"
      },
      "source": [
        "correct = 0\n",
        "total = 0\n",
        "model = model.to(\"cpu\")\n",
        "with torch.no_grad():\n",
        "    for data in testloader:\n",
        "        images, labels = data\n",
        "        outputs = model(images)\n",
        "        _, predicted = torch.max(outputs.data, 1)\n",
        "        total += labels.size(0)\n",
        "        correct += (predicted == labels).sum().item()\n",
        "\n",
        "print('Accuracy of the network on the 10000 test images: %d %%' % (\n",
        "    100 * correct / total))"
      ],
      "execution_count": 20,
      "outputs": [
        {
          "output_type": "stream",
          "text": [
            "Accuracy of the network on the 10000 test images: 72 %\n"
          ],
          "name": "stdout"
        }
      ]
    }
  ]
}